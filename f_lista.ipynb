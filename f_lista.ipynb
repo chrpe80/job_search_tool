{
 "cells": [
  {
   "cell_type": "code",
   "id": "initial_id",
   "metadata": {
    "collapsed": true,
    "ExecuteTime": {
     "end_time": "2024-11-25T10:42:31.417322Z",
     "start_time": "2024-11-25T10:42:31.409968Z"
    }
   },
   "source": "import pandas as pd",
   "outputs": [],
   "execution_count": 9
  },
  {
   "metadata": {
    "ExecuteTime": {
     "end_time": "2024-11-25T10:42:31.496139Z",
     "start_time": "2024-11-25T10:42:31.488867Z"
    }
   },
   "cell_type": "code",
   "source": [
    "def correct_spelling(x):\n",
    "    if \"Ã¶\" in x:\n",
    "        x = x.replace(\"Ã¶\", \"ö\")\n",
    "    if \"Ã–\" in x:\n",
    "        x = x.replace(\"Ã–\", \"Ö\")\n",
    "    if \"Ã¥\" in x:\n",
    "        x = x.replace(\"Ã¥\", \"å\")\n",
    "    if \"Ã¤\" in x:\n",
    "        x = x.replace(\"Ã¤\", \"ä\")\n",
    "    if \"Ã\" in x:\n",
    "        x.replace(\"Ã\", \"Ä\")\n",
    "    return x"
   ],
   "id": "c0793a33cac231e3",
   "outputs": [],
   "execution_count": 10
  },
  {
   "metadata": {
    "ExecuteTime": {
     "end_time": "2024-11-25T10:42:31.075478Z",
     "start_time": "2024-11-25T10:42:31.061759Z"
    }
   },
   "cell_type": "code",
   "source": "df_gbg = pd.read_csv(\"info_gbg.csv\")",
   "id": "6e92a885839d43e0",
   "outputs": [],
   "execution_count": 3
  },
  {
   "metadata": {
    "ExecuteTime": {
     "end_time": "2024-11-25T10:42:31.115879Z",
     "start_time": "2024-11-25T10:42:31.104828Z"
    }
   },
   "cell_type": "code",
   "source": "df_gbg[\"Namn\"] = df_gbg[\"Namn\"].apply(lambda x: correct_spelling(x))",
   "id": "bd91ab6edaf76655",
   "outputs": [],
   "execution_count": 4
  },
  {
   "metadata": {
    "ExecuteTime": {
     "end_time": "2024-11-25T10:42:31.157843Z",
     "start_time": "2024-11-25T10:42:31.135603Z"
    }
   },
   "cell_type": "code",
   "source": "df_gbg",
   "id": "ff8d6843ac02be88",
   "outputs": [
    {
     "data": {
      "text/plain": [
       "                           Namn       Org NR\n",
       "0             12B Consulting AB  559384-8160\n",
       "1     2mnordic It Consulting AB  556593-8973\n",
       "2           3bits Consulting AB  556748-3069\n",
       "3    4 Retail Sweden Aktiebolag  556480-3715\n",
       "4                        8PI AB  559089-4969\n",
       "..                          ...          ...\n",
       "694         Zitac Consulting AB  556638-7139\n",
       "695              Zitac Malmö AB  559149-5287\n",
       "696          Zitac Solutions AB  559152-7170\n",
       "697         Zool Engineering AB  559090-6847\n",
       "698             Zool Systems AB  559348-7308\n",
       "\n",
       "[699 rows x 2 columns]"
      ],
      "text/html": [
       "<div>\n",
       "<style scoped>\n",
       "    .dataframe tbody tr th:only-of-type {\n",
       "        vertical-align: middle;\n",
       "    }\n",
       "\n",
       "    .dataframe tbody tr th {\n",
       "        vertical-align: top;\n",
       "    }\n",
       "\n",
       "    .dataframe thead th {\n",
       "        text-align: right;\n",
       "    }\n",
       "</style>\n",
       "<table border=\"1\" class=\"dataframe\">\n",
       "  <thead>\n",
       "    <tr style=\"text-align: right;\">\n",
       "      <th></th>\n",
       "      <th>Namn</th>\n",
       "      <th>Org NR</th>\n",
       "    </tr>\n",
       "  </thead>\n",
       "  <tbody>\n",
       "    <tr>\n",
       "      <th>0</th>\n",
       "      <td>12B Consulting AB</td>\n",
       "      <td>559384-8160</td>\n",
       "    </tr>\n",
       "    <tr>\n",
       "      <th>1</th>\n",
       "      <td>2mnordic It Consulting AB</td>\n",
       "      <td>556593-8973</td>\n",
       "    </tr>\n",
       "    <tr>\n",
       "      <th>2</th>\n",
       "      <td>3bits Consulting AB</td>\n",
       "      <td>556748-3069</td>\n",
       "    </tr>\n",
       "    <tr>\n",
       "      <th>3</th>\n",
       "      <td>4 Retail Sweden Aktiebolag</td>\n",
       "      <td>556480-3715</td>\n",
       "    </tr>\n",
       "    <tr>\n",
       "      <th>4</th>\n",
       "      <td>8PI AB</td>\n",
       "      <td>559089-4969</td>\n",
       "    </tr>\n",
       "    <tr>\n",
       "      <th>...</th>\n",
       "      <td>...</td>\n",
       "      <td>...</td>\n",
       "    </tr>\n",
       "    <tr>\n",
       "      <th>694</th>\n",
       "      <td>Zitac Consulting AB</td>\n",
       "      <td>556638-7139</td>\n",
       "    </tr>\n",
       "    <tr>\n",
       "      <th>695</th>\n",
       "      <td>Zitac Malmö AB</td>\n",
       "      <td>559149-5287</td>\n",
       "    </tr>\n",
       "    <tr>\n",
       "      <th>696</th>\n",
       "      <td>Zitac Solutions AB</td>\n",
       "      <td>559152-7170</td>\n",
       "    </tr>\n",
       "    <tr>\n",
       "      <th>697</th>\n",
       "      <td>Zool Engineering AB</td>\n",
       "      <td>559090-6847</td>\n",
       "    </tr>\n",
       "    <tr>\n",
       "      <th>698</th>\n",
       "      <td>Zool Systems AB</td>\n",
       "      <td>559348-7308</td>\n",
       "    </tr>\n",
       "  </tbody>\n",
       "</table>\n",
       "<p>699 rows × 2 columns</p>\n",
       "</div>"
      ]
     },
     "execution_count": 5,
     "metadata": {},
     "output_type": "execute_result"
    }
   ],
   "execution_count": 5
  },
  {
   "metadata": {
    "ExecuteTime": {
     "end_time": "2024-11-25T10:42:31.189363Z",
     "start_time": "2024-11-25T10:42:31.177995Z"
    }
   },
   "cell_type": "code",
   "source": "df_sth = pd.read_csv(\"info_sth.csv\")",
   "id": "6286ceaf0dc02320",
   "outputs": [],
   "execution_count": 6
  },
  {
   "metadata": {
    "ExecuteTime": {
     "end_time": "2024-11-25T10:42:31.230520Z",
     "start_time": "2024-11-25T10:42:31.222155Z"
    }
   },
   "cell_type": "code",
   "source": "df_sth[\"Namn\"] = df_sth[\"Namn\"].apply(lambda x: correct_spelling(x))",
   "id": "8da13e4b920a8976",
   "outputs": [],
   "execution_count": 7
  },
  {
   "metadata": {
    "ExecuteTime": {
     "end_time": "2024-11-25T10:42:31.298274Z",
     "start_time": "2024-11-25T10:42:31.283851Z"
    }
   },
   "cell_type": "code",
   "source": "df_sth",
   "id": "33f79d263b07f601",
   "outputs": [
    {
     "data": {
      "text/plain": [
       "                                            Namn       Org NR\n",
       "0                                       Carla AB  559277-3492\n",
       "1                             Utopia R&D Tech AB  556639-4010\n",
       "2                                  Xbp Europe AB  556455-0373\n",
       "3                           Norstedts Juridik AB  556226-6097\n",
       "4                                      Crayon AB  556635-9799\n",
       "...                                          ...          ...\n",
       "1915                            Vmlapp Sweden AB  559177-9144\n",
       "1916                                  Vvenues AB  559318-7031\n",
       "1917                         Warpzone Studios AB  559071-1346\n",
       "1918  Webbfabriken Web And Security Solutions AB  559274-4816\n",
       "1919                                Wennostra AB  559104-1206\n",
       "\n",
       "[1920 rows x 2 columns]"
      ],
      "text/html": [
       "<div>\n",
       "<style scoped>\n",
       "    .dataframe tbody tr th:only-of-type {\n",
       "        vertical-align: middle;\n",
       "    }\n",
       "\n",
       "    .dataframe tbody tr th {\n",
       "        vertical-align: top;\n",
       "    }\n",
       "\n",
       "    .dataframe thead th {\n",
       "        text-align: right;\n",
       "    }\n",
       "</style>\n",
       "<table border=\"1\" class=\"dataframe\">\n",
       "  <thead>\n",
       "    <tr style=\"text-align: right;\">\n",
       "      <th></th>\n",
       "      <th>Namn</th>\n",
       "      <th>Org NR</th>\n",
       "    </tr>\n",
       "  </thead>\n",
       "  <tbody>\n",
       "    <tr>\n",
       "      <th>0</th>\n",
       "      <td>Carla AB</td>\n",
       "      <td>559277-3492</td>\n",
       "    </tr>\n",
       "    <tr>\n",
       "      <th>1</th>\n",
       "      <td>Utopia R&amp;D Tech AB</td>\n",
       "      <td>556639-4010</td>\n",
       "    </tr>\n",
       "    <tr>\n",
       "      <th>2</th>\n",
       "      <td>Xbp Europe AB</td>\n",
       "      <td>556455-0373</td>\n",
       "    </tr>\n",
       "    <tr>\n",
       "      <th>3</th>\n",
       "      <td>Norstedts Juridik AB</td>\n",
       "      <td>556226-6097</td>\n",
       "    </tr>\n",
       "    <tr>\n",
       "      <th>4</th>\n",
       "      <td>Crayon AB</td>\n",
       "      <td>556635-9799</td>\n",
       "    </tr>\n",
       "    <tr>\n",
       "      <th>...</th>\n",
       "      <td>...</td>\n",
       "      <td>...</td>\n",
       "    </tr>\n",
       "    <tr>\n",
       "      <th>1915</th>\n",
       "      <td>Vmlapp Sweden AB</td>\n",
       "      <td>559177-9144</td>\n",
       "    </tr>\n",
       "    <tr>\n",
       "      <th>1916</th>\n",
       "      <td>Vvenues AB</td>\n",
       "      <td>559318-7031</td>\n",
       "    </tr>\n",
       "    <tr>\n",
       "      <th>1917</th>\n",
       "      <td>Warpzone Studios AB</td>\n",
       "      <td>559071-1346</td>\n",
       "    </tr>\n",
       "    <tr>\n",
       "      <th>1918</th>\n",
       "      <td>Webbfabriken Web And Security Solutions AB</td>\n",
       "      <td>559274-4816</td>\n",
       "    </tr>\n",
       "    <tr>\n",
       "      <th>1919</th>\n",
       "      <td>Wennostra AB</td>\n",
       "      <td>559104-1206</td>\n",
       "    </tr>\n",
       "  </tbody>\n",
       "</table>\n",
       "<p>1920 rows × 2 columns</p>\n",
       "</div>"
      ]
     },
     "execution_count": 8,
     "metadata": {},
     "output_type": "execute_result"
    }
   ],
   "execution_count": 8
  }
 ],
 "metadata": {
  "kernelspec": {
   "display_name": "Python 3",
   "language": "python",
   "name": "python3"
  },
  "language_info": {
   "codemirror_mode": {
    "name": "ipython",
    "version": 2
   },
   "file_extension": ".py",
   "mimetype": "text/x-python",
   "name": "python",
   "nbconvert_exporter": "python",
   "pygments_lexer": "ipython2",
   "version": "2.7.6"
  }
 },
 "nbformat": 4,
 "nbformat_minor": 5
}
